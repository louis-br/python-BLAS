{
 "cells": [
  {
   "cell_type": "code",
   "execution_count": 241,
   "metadata": {},
   "outputs": [],
   "source": [
    "import socket\n",
    "import struct\n",
    "import time\n",
    "import multiprocessing\n",
    "import matplotlib.pyplot as plt\n",
    "import numpy as np"
   ]
  },
  {
   "cell_type": "code",
   "execution_count": 242,
   "metadata": {},
   "outputs": [
    {
     "name": "stdout",
     "output_type": "stream",
     "text": [
      "-1.742987e-07 3.978862e-07\n",
      "Completed Execution in 0.6305572519922862 seconds\n"
     ]
    },
    {
     "data": {
      "image/png": "[encoded data removed]",
      "text/plain": [
       "<Figure size 432x288 with 1 Axes>"
      ]
     },
     "metadata": {
      "needs_background": "light"
     },
     "output_type": "display_data"
    }
   ],
   "source": [
    "%run client.ipynb"
   ]
  },
  {
   "cell_type": "code",
   "execution_count": 243,
   "metadata": {},
   "outputs": [],
   "source": [
    "def sending(sock):\n",
    "        elapsed = time.perf_counter()\n",
    "        send(sock, g.tobytes())\n",
    "        elapsed = time.perf_counter() - elapsed\n",
    "        print(f\"Completed Execution in {elapsed} seconds\")\n",
    "        return elapsed"
   ]
  },
  {
   "cell_type": "code",
   "execution_count": 244,
   "metadata": {},
   "outputs": [],
   "source": [
    "def multiconnect(g, num):\n",
    "    #g = g.tobytes()\n",
    "    elapsed = time.perf_counter()\n",
    "    sockets = [socket.socket(socket.AF_INET, socket.SOCK_STREAM) for _ in range(num)]\n",
    "    for sock in sockets:\n",
    "        connect_host(sock)\n",
    "    print(f\"Connected in {time.perf_counter() - elapsed} seconds\")\n",
    "    pool = multiprocessing.Pool()\n",
    "    return pool.map(sending, sockets)[0] #max()\n"
   ]
  },
  {
   "cell_type": "code",
   "execution_count": 245,
   "metadata": {},
   "outputs": [],
   "source": [
    "def connect_thread(num):\n",
    "    elapsed = time.perf_counter()\n",
    "    connect(g)\n",
    "    return time.perf_counter() - elapsed"
   ]
  },
  {
   "cell_type": "code",
   "execution_count": 246,
   "metadata": {},
   "outputs": [
    {
     "name": "stdout",
     "output_type": "stream",
     "text": [
      "Completed Execution in 0.8877006230031839 secondsCompleted Execution in 0.8878068710037041 seconds\n",
      "\n",
      "Completed Execution in 1.05470040300861 seconds\n",
      "Max: 1.0580216679954901 seconds\n"
     ]
    },
    {
     "data": {
      "text/plain": [
       "1.0580216679954901"
      ]
     },
     "execution_count": 246,
     "metadata": {},
     "output_type": "execute_result"
    }
   ],
   "source": [
    "def test_threads(num):\n",
    "    threads = []\n",
    "    pool = multiprocessing.Pool()\n",
    "    elapsed = pool.map(connect_thread, range(num))[0]\n",
    "    print(f\"Max: {elapsed} seconds\")\n",
    "    return elapsed\n",
    "    #ps = [];\n",
    "    #for i in range(0, threads):\n",
    "    #    p = Process(target=connect)\n",
    "    #    p.start()\n",
    "    #   ps.append(p)\n",
    "\n",
    "    #for p in ps:\n",
    "    #    p.join()\n",
    "\n",
    "test_threads(3)"
   ]
  },
  {
   "cell_type": "code",
   "execution_count": 247,
   "metadata": {},
   "outputs": [
    {
     "name": "stdout",
     "output_type": "stream",
     "text": [
      "Completed Execution in 0.6015553239994915 seconds\n",
      "Max: 0.6047991720115533 seconds\n",
      "Completed Execution in 0.831636791001074 seconds\n",
      "Completed Execution in 0.9542802200012375 seconds\n",
      "Max: 0.9572545780101791 seconds\n",
      "Completed Execution in 0.7550718670099741 secondsCompleted Execution in 0.7552600039925892 seconds\n",
      "\n",
      "Completed Execution in 1.030876007003826 seconds\n",
      "Max: 1.033986490991083 seconds\n",
      "Completed Execution in 1.2382657960115466 seconds\n",
      "Completed Execution in 1.3251697100058664 seconds\n",
      "Completed Execution in 1.369385965008405 seconds\n",
      "Completed Execution in 1.6127234839950688 seconds\n",
      "Max: 1.6158072230027756 seconds\n",
      "Completed Execution in 1.579773567005759 seconds\n",
      "Completed Execution in 1.626882436001324 secondsCompleted Execution in 1.6267818739870563 secondsCompleted Execution in 1.6265370899927802 seconds\n",
      "\n",
      "\n",
      "Completed Execution in 1.7421005610085558 seconds\n",
      "Max: 1.583570641989354 seconds\n",
      "Completed Execution in 1.8837411040003644 seconds\n",
      "Completed Execution in 1.9079228140035411 secondsCompleted Execution in 1.9083010780013865 secondsCompleted Execution in 1.9076146260049427 seconds\n",
      "\n",
      "\n",
      "Completed Execution in 2.02369423500204 seconds\n",
      "Completed Execution in 2.2251090969948564 seconds\n",
      "Max: 1.9122844130033627 seconds\n",
      "Completed Execution in 2.3260729089961387 secondsCompleted Execution in 2.325761957006762 seconds\n",
      "\n",
      "Completed Execution in 2.435846791995573 seconds\n",
      "Completed Execution in 2.490870713008917 seconds\n",
      "Completed Execution in 2.5340256380004575 seconds\n",
      "Completed Execution in 2.705302157002734 seconds\n",
      "Completed Execution in 2.7948034099972574 seconds\n",
      "Max: 2.3308258859906346 seconds\n",
      "Completed Execution in 2.3464593469980173 seconds\n",
      "Completed Execution in 2.381130009001936 seconds\n",
      "Completed Execution in 2.4622869890008587 seconds\n",
      "Completed Execution in 2.5802074420062127 secondsCompleted Execution in 2.5799863829888636 seconds\n",
      "\n",
      "Completed Execution in 2.630685201002052 seconds\n",
      "Completed Execution in 2.684680484002456 seconds\n",
      "Completed Execution in 2.758065850008279 seconds\n",
      "Max: 2.58414141900721 seconds\n",
      "Completed Execution in 2.962081646997831 seconds\n",
      "Completed Execution in 3.6544407439942006 seconds\n",
      "Completed Execution in 3.66520118698827 seconds\n",
      "Completed Execution in 3.8350974960048916 seconds\n",
      "Completed Execution in 3.865603687998373 seconds\n",
      "Completed Execution in 4.009847788998741 seconds\n",
      "Completed Execution in 4.061123348001274 seconds\n",
      "Completed Execution in 4.110905313005787 seconds\n",
      "Completed Execution in 4.201990012006718 seconds\n",
      "Max: 4.064462039998034 seconds\n",
      "Completed Execution in 2.8676205660012783 seconds\n",
      "Completed Execution in 3.228365004993975 seconds\n",
      "Completed Execution in 3.264752053000848 seconds\n",
      "Completed Execution in 3.3473662580072414 seconds\n",
      "Completed Execution in 3.6387600829912117 seconds\n",
      "Completed Execution in 3.6696395250037313 seconds\n",
      "Completed Execution in 3.7297722610092023 seconds\n",
      "Completed Execution in 3.744734770996729 seconds\n",
      "Completed Execution in 3.8363167000061367 seconds\n",
      "Completed Execution in 4.024758453000686 seconds\n",
      "Max: 3.6752051490038866 seconds\n",
      "Completed Execution in 3.7887296989938477 seconds\n",
      "Completed Execution in 4.4826441049954155 seconds\n",
      "Completed Execution in 4.579900372991688 secondsCompleted Execution in 4.581016910990002 seconds\n",
      "\n",
      "Completed Execution in 4.804654958003084 secondsCompleted Execution in 4.806900360999862 seconds\n",
      "\n",
      "Completed Execution in 4.929722496002796 seconds\n",
      "Completed Execution in 4.93748008699913 seconds\n",
      "Completed Execution in 4.960518204999971 seconds\n",
      "Completed Execution in 4.988740983011667 seconds\n",
      "Completed Execution in 5.043599980010185 seconds\n",
      "Max: 4.992446396994637 seconds\n",
      "Completed Execution in 3.8435197939979844 seconds\n",
      "Completed Execution in 4.139820659009274 seconds\n",
      "Completed Execution in 4.4055826399999205 seconds\n",
      "Completed Execution in 4.4865598079923075 seconds\n",
      "Completed Execution in 4.740740591005306 seconds\n",
      "Completed Execution in 4.792292316997191 seconds\n",
      "Completed Execution in 4.853639738998027 seconds\n",
      "Completed Execution in 4.885685201996239 seconds\n",
      "Completed Execution in 4.918426832999103 seconds\n",
      "Completed Execution in 5.053619537997292 secondsCompleted Execution in 5.053953363996698 seconds\n",
      "\n",
      "Completed Execution in 5.144058020989178 seconds\n",
      "Max: 5.057448517996818 seconds\n"
     ]
    }
   ],
   "source": [
    "r = []\n",
    "\n",
    "for i in range(12):\n",
    "    r.append(test_threads(i+1)) #multiconnect(g, i+1)) #/(i+1)"
   ]
  },
  {
   "cell_type": "code",
   "execution_count": 278,
   "metadata": {},
   "outputs": [],
   "source": [
    "seq = []\n",
    "worth = []\n",
    "rvalue = r[0]\n",
    "for i in range(1, len(r) + 1):\n",
    "    seq.append(rvalue*i)\n",
    "    intercept = r[i-1]/rvalue\n",
    "    worth.append((rvalue*i - r[i-1])*(i - intercept)/2 - (r[i-1])*(intercept-1)/2)\n",
    "bestindex = max(range(len(worth)), key=worth.__getitem__)\n",
    "best = r[bestindex]"
   ]
  },
  {
   "cell_type": "code",
   "execution_count": 282,
   "metadata": {},
   "outputs": [
    {
     "data": {
      "image/png": "[encoded data removed]",
      "text/plain": [
       "<Figure size 432x288 with 1 Axes>"
      ]
     },
     "metadata": {
      "needs_background": "light"
     },
     "output_type": "display_data"
    },
    {
     "data": {
      "text/plain": [
       "[<matplotlib.lines.Line2D at 0x7fb5540c3a60>]"
      ]
     },
     "execution_count": 282,
     "metadata": {},
     "output_type": "execute_result"
    },
    {
     "data": {
      "image/png": "[encoded data removed]",
      "text/plain": [
       "<Figure size 432x288 with 1 Axes>"
      ]
     },
     "metadata": {
      "needs_background": "light"
     },
     "output_type": "display_data"
    }
   ],
   "source": [
    "plt.plot(range(1, len(r)+1), r)\n",
    "plt.plot(range(1, len(seq)+1), seq)\n",
    "plt.axhline(best, color=\"gray\", linestyle=\"--\")\n",
    "plt.fill_between(range(1, len(seq)+1), seq, best, where=[v < best for v in seq], alpha=0.1, color=\"red\", interpolate=True)\n",
    "plt.fill_between(range(1, len(seq)+1), seq, best, where=[seq[i] > best and i <= bestindex for i in range(len(seq))], alpha=0.1, color=\"green\", interpolate=True)\n",
    "plt.show()\n",
    "plt.plot(range(1, len(worth)+1), worth)"
   ]
  }
 ],
 "metadata": {
  "interpreter": {
   "hash": "d4d1e4263499bec80672ea0156c357c1ee493ec2b1c70f0acce89fc37c4a6abe"
  },
  "kernelspec": {
   "display_name": "Python 3.9.7 ('base')",
   "language": "python",
   "name": "python3"
  },
  "language_info": {
   "codemirror_mode": {
    "name": "ipython",
    "version": 3
   },
   "file_extension": ".py",
   "mimetype": "text/x-python",
   "name": "python",
   "nbconvert_exporter": "python",
   "pygments_lexer": "ipython3",
   "version": "3.9.7"
  },
  "orig_nbformat": 4
 },
 "nbformat": 4,
 "nbformat_minor": 2
}
