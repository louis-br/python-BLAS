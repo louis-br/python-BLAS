{
 "cells": [
  {
   "cell_type": "code",
   "execution_count": 1,
   "metadata": {},
   "outputs": [],
   "source": [
    "import socket\n",
    "import struct\n",
    "import time\n",
    "import multiprocessing\n",
    "import matplotlib.pyplot as plt\n",
    "import numpy as np"
   ]
  },
  {
   "cell_type": "code",
   "execution_count": 2,
   "metadata": {},
   "outputs": [
    {
     "name": "stdout",
     "output_type": "stream",
     "text": [
      "-1.742987e-07\n",
      "Completed Execution in 1.362107898999966 seconds\n"
     ]
    },
    {
     "data": {
      "image/png": "[encoded data removed]",
      "text/plain": [
       "<Figure size 432x288 with 1 Axes>"
      ]
     },
     "metadata": {
      "needs_background": "light"
     },
     "output_type": "display_data"
    }
   ],
   "source": [
    "%run client.ipynb"
   ]
  },
  {
   "cell_type": "code",
   "execution_count": 3,
   "metadata": {},
   "outputs": [],
   "source": [
    "def sending(sock):\n",
    "        elapsed = time.perf_counter()\n",
    "        send(sock, g.tobytes())\n",
    "        elapsed = time.perf_counter() - elapsed\n",
    "        print(f\"Completed Execution in {elapsed} seconds\")\n",
    "        return elapsed"
   ]
  },
  {
   "cell_type": "code",
   "execution_count": 4,
   "metadata": {},
   "outputs": [],
   "source": [
    "def multiconnect(g, num):\n",
    "    #g = g.tobytes()\n",
    "    elapsed = time.perf_counter()\n",
    "    sockets = [socket.socket(socket.AF_INET, socket.SOCK_STREAM) for _ in range(num)]\n",
    "    for sock in sockets:\n",
    "        connect_host(sock)\n",
    "    print(f\"Connected in {time.perf_counter() - elapsed} seconds\")\n",
    "    pool = multiprocessing.Pool()\n",
    "    return pool.map(sending, sockets)[0] #max()\n"
   ]
  },
  {
   "cell_type": "code",
   "execution_count": 5,
   "metadata": {},
   "outputs": [],
   "source": [
    "def connect_thread(start):\n",
    "    elapsed = start\n",
    "    connect(g)\n",
    "    return time.perf_counter() - elapsed"
   ]
  },
  {
   "cell_type": "code",
   "execution_count": 6,
   "metadata": {},
   "outputs": [
    {
     "name": "stdout",
     "output_type": "stream",
     "text": [
      "Completed Execution in 1.7621313220006414 seconds\n",
      "Completed Execution in 1.766053142999226 seconds\n",
      "Completed Execution in 1.8961808000003657 seconds\n",
      "Max: 1.9003452090000792 seconds\n"
     ]
    },
    {
     "data": {
      "text/plain": [
       "1.9003452090000792"
      ]
     },
     "execution_count": 6,
     "metadata": {},
     "output_type": "execute_result"
    }
   ],
   "source": [
    "def test_threads(num):\n",
    "    threads = []\n",
    "    pool = multiprocessing.pool.ThreadPool(processes=num) #multiprocessing.Pool()\n",
    "    start = time.perf_counter()\n",
    "    elapsed = max(pool.map(connect_thread, [start] * num)) #[0]\n",
    "    print(f\"Max: {elapsed} seconds\")\n",
    "    return elapsed\n",
    "    #ps = [];\n",
    "    #for i in range(0, threads):\n",
    "    #    p = Process(target=connect)\n",
    "    #    p.start()\n",
    "    #   ps.append(p)\n",
    "\n",
    "    #for p in ps:\n",
    "    #    p.join()\n",
    "\n",
    "test_threads(3)"
   ]
  },
  {
   "cell_type": "code",
   "execution_count": 7,
   "metadata": {},
   "outputs": [
    {
     "name": "stdout",
     "output_type": "stream",
     "text": [
      "Completed Execution in 1.2461755639997136 seconds\n",
      "Max: 1.2497506710005837 seconds\n",
      "Completed Execution in 1.3248791239984712 secondsCompleted Execution in 1.3253145849994326 seconds\n",
      "\n",
      "Max: 1.329180696999174 seconds\n",
      "Completed Execution in 1.8228706100017007 secondsCompleted Execution in 1.8226515730002575 seconds\n",
      "\n",
      "Completed Execution in 1.877489948999937 seconds\n",
      "Max: 1.8809130620011274 seconds\n",
      "Completed Execution in 1.9604692949997116 seconds\n",
      "Completed Execution in 2.1948850070002663 seconds\n",
      "Completed Execution in 2.2676259560012113 seconds\n",
      "Completed Execution in 2.283672742001727 seconds\n",
      "Max: 2.2870554460005224 seconds\n",
      "Completed Execution in 3.7247156829998858 seconds\n",
      "Completed Execution in 3.8497082319991023 seconds\n",
      "Completed Execution in 3.8606038889993215 seconds\n",
      "Completed Execution in 4.039058313999703 seconds\n",
      "Completed Execution in 4.092475620000187 seconds\n",
      "Max: 4.095923490998757 seconds\n",
      "Completed Execution in 3.766498891000083 seconds\n",
      "Completed Execution in 3.8250589719991694 seconds\n",
      "Completed Execution in 3.9832052279998607 secondsCompleted Execution in 3.983801022000989 seconds\n",
      "\n",
      "Completed Execution in 4.154458335000527 seconds\n",
      "Completed Execution in 4.233146231001228 seconds\n",
      "Max: 4.236697963999177 seconds\n",
      "Completed Execution in 3.703401644999758 secondsCompleted Execution in 3.703725317000135 seconds\n",
      "\n",
      "Completed Execution in 3.9676182530001824 seconds\n",
      "Completed Execution in 4.103702034999515 seconds\n",
      "Completed Execution in 4.14389878700058 seconds\n",
      "Completed Execution in 4.296523971001079 seconds\n",
      "Completed Execution in 4.402711917000488 seconds\n",
      "Max: 4.406608420000339 seconds\n",
      "Completed Execution in 4.802543006999258 seconds\n",
      "Completed Execution in 4.9759645489994 seconds\n",
      "Completed Execution in 5.083550952000223 seconds\n",
      "Completed Execution in 5.183216660001563 seconds\n",
      "Completed Execution in 5.285275660999105 seconds\n",
      "Completed Execution in 5.289021332999255 seconds\n",
      "Completed Execution in 5.372218073000113 seconds\n",
      "Completed Execution in 5.473948380000365 seconds\n",
      "Max: 5.47809945500012 seconds\n",
      "Completed Execution in 4.18104153600143 seconds\n",
      "Completed Execution in 4.642623312000069 seconds\n",
      "Completed Execution in 4.805393872000423 seconds\n",
      "Completed Execution in 5.133461293999062 seconds\n",
      "Completed Execution in 5.1510471679994225 seconds\n",
      "Completed Execution in 5.338582483000209 seconds\n",
      "Completed Execution in 5.390718086000561 seconds\n",
      "Completed Execution in 5.403131401000792 seconds\n",
      "Completed Execution in 5.781845342999077 seconds\n",
      "Max: 5.785677899999428 seconds\n",
      "Completed Execution in 6.349649285000851 seconds\n",
      "Completed Execution in 6.653290786998696 seconds\n",
      "Completed Execution in 6.906308112000261 seconds\n",
      "Completed Execution in 7.047350156999528 seconds\n",
      "Completed Execution in 7.052133606001007 seconds\n",
      "Completed Execution in 7.0821885309997015 seconds\n",
      "Completed Execution in 7.097145396999622 seconds\n",
      "Completed Execution in 7.269708711000931 seconds\n",
      "Completed Execution in 7.318857514001138 seconds\n",
      "Completed Execution in 7.32586829399952 seconds\n",
      "Max: 7.329709720999745 seconds\n",
      "Completed Execution in 5.851327075999507 seconds\n",
      "Completed Execution in 6.708754933999444 seconds\n",
      "Completed Execution in 6.744470867000928 seconds\n",
      "Completed Execution in 7.205808052000066 seconds\n",
      "Completed Execution in 7.214599063001515 seconds\n",
      "Completed Execution in 7.362821762000749 seconds\n",
      "Completed Execution in 7.416007235999132 seconds\n",
      "Completed Execution in 7.468744840998625 seconds\n",
      "Completed Execution in 7.596451118999539 secondsCompleted Execution in 7.59653367700048 seconds\n",
      "\n",
      "Completed Execution in 7.64862915500089 seconds\n",
      "Max: 7.65208933500071 seconds\n",
      "Completed Execution in 8.68333783900016 seconds\n",
      "Completed Execution in 8.862857087999146 seconds\n",
      "Completed Execution in 8.938585796999178 seconds\n",
      "Completed Execution in 8.956107100999361 seconds\n",
      "Completed Execution in 9.054951637001068 seconds\n",
      "Completed Execution in 9.098297432001345 seconds\n",
      "Completed Execution in 9.278188031999889 seconds\n",
      "Completed Execution in 9.405820653000774 secondsCompleted Execution in 9.405055795001317 seconds\n",
      "\n",
      "Completed Execution in 9.437267090001114 seconds\n",
      "Completed Execution in 9.453893732999859 seconds\n",
      "Completed Execution in 9.562923331001002 seconds\n",
      "Max: 9.56651018499906 seconds\n"
     ]
    }
   ],
   "source": [
    "r = []\n",
    "\n",
    "for i in range(12):\n",
    "    r.append(test_threads(i+1)) #multiconnect(g, i+1)) #/(i+1)"
   ]
  },
  {
   "cell_type": "code",
   "execution_count": 8,
   "metadata": {},
   "outputs": [],
   "source": [
    "seq = []\n",
    "worth = []\n",
    "rvalue = r[0]\n",
    "for i in range(1, len(r) + 1):\n",
    "    seq.append(rvalue*i)\n",
    "    intercept = r[i-1]/rvalue\n",
    "    worth.append((rvalue*i - r[i-1])*(i - intercept)/2 - (r[i-1])*(intercept-1)/2)\n",
    "bestindex = max(range(len(worth)), key=worth.__getitem__)\n",
    "best = r[bestindex]"
   ]
  },
  {
   "cell_type": "code",
   "execution_count": 9,
   "metadata": {},
   "outputs": [
    {
     "data": {
      "image/png": "[encoded data removed]",
      "text/plain": [
       "<Figure size 432x288 with 1 Axes>"
      ]
     },
     "metadata": {
      "needs_background": "light"
     },
     "output_type": "display_data"
    },
    {
     "data": {
      "text/plain": [
       "[<matplotlib.lines.Line2D at 0x7f2e2d2ac8b0>]"
      ]
     },
     "execution_count": 9,
     "metadata": {},
     "output_type": "execute_result"
    },
    {
     "data": {
      "image/png": "[encoded data removed]",
      "text/plain": [
       "<Figure size 432x288 with 1 Axes>"
      ]
     },
     "metadata": {
      "needs_background": "light"
     },
     "output_type": "display_data"
    }
   ],
   "source": [
    "plt.plot(range(1, len(r)+1), r)\n",
    "plt.plot(range(1, len(seq)+1), seq)\n",
    "plt.axhline(best, color=\"gray\", linestyle=\"--\")\n",
    "plt.fill_between(range(1, len(seq)+1), seq, best, where=[v < best for v in seq], alpha=0.1, color=\"red\", interpolate=True)\n",
    "plt.fill_between(range(1, len(seq)+1), seq, best, where=[seq[i] > best and i <= bestindex for i in range(len(seq))], alpha=0.1, color=\"green\", interpolate=True)\n",
    "plt.show()\n",
    "plt.plot(range(1, len(worth)+1), worth)"
   ]
  },
  {
   "cell_type": "code",
   "execution_count": null,
   "metadata": {},
   "outputs": [],
   "source": []
  }
 ],
 "metadata": {
  "interpreter": {
   "hash": "d4d1e4263499bec80672ea0156c357c1ee493ec2b1c70f0acce89fc37c4a6abe"
  },
  "kernelspec": {
   "display_name": "Python 3 (ipykernel)",
   "language": "python",
   "name": "python3"
  },
  "language_info": {
   "codemirror_mode": {
    "name": "ipython",
    "version": 3
   },
   "file_extension": ".py",
   "mimetype": "text/x-python",
   "name": "python",
   "nbconvert_exporter": "python",
   "pygments_lexer": "ipython3",
   "version": "3.9.7"
  }
 },
 "nbformat": 4,
 "nbformat_minor": 4
}
