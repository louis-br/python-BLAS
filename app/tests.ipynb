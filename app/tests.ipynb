{
 "cells": [
  {
   "cell_type": "code",
   "execution_count": 1,
   "metadata": {},
   "outputs": [],
   "source": [
    "import numpy as np"
   ]
  },
  {
   "cell_type": "code",
   "execution_count": 2,
   "metadata": {},
   "outputs": [],
   "source": [
    "a = np.genfromtxt(\"../tests/a.csv\", dtype=float, delimiter=\";\")\n",
    "aM = np.genfromtxt(\"../tests/aM.csv\", dtype=float, delimiter=\";\")\n",
    "M = np.genfromtxt(\"../tests/M.csv\", dtype=int, delimiter=\";\")\n",
    "MN = np.genfromtxt(\"../tests/MN.csv\", dtype=int, delimiter=\";\")\n",
    "N = np.genfromtxt(\"../tests/N.csv\", dtype=int, delimiter=\";\")\n"
   ]
  },
  {
   "cell_type": "code",
   "execution_count": 3,
   "metadata": {},
   "outputs": [
    {
     "data": {
      "text/plain": [
       "array([[28030, 22900, 22675, 27980, 28740, 26155, 24775, 22675, 24230,\n",
       "        26865],\n",
       "       [27550, 23250, 22855, 28040, 28630, 25675, 25125, 22855, 24290,\n",
       "        26755],\n",
       "       [20650, 21430, 30040, 29180, 29025, 24400, 23305, 24415, 25430,\n",
       "        27150],\n",
       "       [27380, 22540, 22855, 28750, 28800, 25505, 24415, 22855, 25000,\n",
       "        26925],\n",
       "       [27490, 22480, 22675, 28400, 29280, 25615, 24355, 22675, 24650,\n",
       "        27405],\n",
       "       [23955, 28325, 27850, 22405, 22165, 25830, 26450, 27850, 26155,\n",
       "        24040],\n",
       "       [23475, 28675, 28030, 22465, 22055, 25350, 26800, 28030, 26215,\n",
       "        23930],\n",
       "       [29775, 29555, 22165, 21805, 21400, 26025, 27680, 27790, 25555,\n",
       "        23275],\n",
       "       [23305, 27965, 28030, 23175, 22225, 25180, 26090, 28030, 26925,\n",
       "        24100],\n",
       "       [23415, 27905, 27850, 22825, 22705, 25290, 26030, 27850, 26575,\n",
       "        24580]])"
      ]
     },
     "execution_count": 3,
     "metadata": {},
     "output_type": "execute_result"
    }
   ],
   "source": [
    "res = M.dot(N)\n",
    "res"
   ]
  },
  {
   "cell_type": "code",
   "execution_count": 4,
   "metadata": {},
   "outputs": [],
   "source": [
    "np.testing.assert_equal(res, MN)"
   ]
  },
  {
   "cell_type": "code",
   "execution_count": 5,
   "metadata": {},
   "outputs": [
    {
     "data": {
      "text/plain": [
       "array([184.43317, 189.83364, 267.14281, 261.01593, 260.64435, 225.91467,\n",
       "       207.71189, 207.78306, 225.25943, 242.7661 ])"
      ]
     },
     "execution_count": 5,
     "metadata": {},
     "output_type": "execute_result"
    }
   ],
   "source": [
    "res = a.dot(M)\n",
    "res"
   ]
  },
  {
   "cell_type": "code",
   "execution_count": 6,
   "metadata": {},
   "outputs": [],
   "source": [
    "np.testing.assert_almost_equal(res, aM, decimal=2)"
   ]
  }
 ],
 "metadata": {
  "interpreter": {
   "hash": "949777d72b0d2535278d3dc13498b2535136f6dfe0678499012e853ee9abcab1"
  },
  "kernelspec": {
   "display_name": "Python 3.9.7 ('base')",
   "language": "python",
   "name": "python3"
  },
  "language_info": {
   "codemirror_mode": {
    "name": "ipython",
    "version": 3
   },
   "file_extension": ".py",
   "mimetype": "text/x-python",
   "name": "python",
   "nbconvert_exporter": "python",
   "pygments_lexer": "ipython3",
   "version": "3.9.7"
  },
  "orig_nbformat": 4
 },
 "nbformat": 4,
 "nbformat_minor": 2
}
