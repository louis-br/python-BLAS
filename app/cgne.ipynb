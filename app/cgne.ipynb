{
 "cells": [
  {
   "cell_type": "code",
   "execution_count": 1,
   "metadata": {},
   "outputs": [],
   "source": [
    "import matplotlib.pyplot as plt\n",
    "import numpy as np\n",
    "from scipy import linalg"
   ]
  },
  {
   "cell_type": "code",
   "execution_count": 2,
   "metadata": {},
   "outputs": [],
   "source": [
    "g = np.genfromtxt(\"../data/G-1.csv\", dtype=float, delimiter=\",\")"
   ]
  },
  {
   "cell_type": "code",
   "execution_count": 3,
   "metadata": {},
   "outputs": [],
   "source": [
    "H = np.genfromtxt(\"../data/H-1.csv\", dtype=\"f4\", delimiter=\",\")"
   ]
  },
  {
   "cell_type": "code",
   "execution_count": 4,
   "metadata": {},
   "outputs": [],
   "source": [
    "def cgne_blas(H, g):\n",
    "    f = np.zeros(3600, dtype=float)\n",
    "    r = linalg.blas.sgemv(-1.0, H, f, beta=1.0, y=g)\n",
    "    p = linalg.blas.sgemv(1.0, H, r, trans=1)\n",
    "    for i in range(0, 20):\n",
    "        rdot = linalg.blas.sdot(r, r)\n",
    "        alpha = rdot/linalg.blas.sdot(p, p)\n",
    "        f = linalg.blas.saxpy(p, f, a=alpha)\n",
    "        r = linalg.blas.sgemv(-alpha, H, p, beta=1.0, y=r)\n",
    "        beta = linalg.blas.sdot(r, r)/rdot\n",
    "        p = linalg.blas.sgemv(1.0, H, r, beta=beta, y=p, trans=1)\n",
    "    return f"
   ]
  },
  {
   "cell_type": "code",
   "execution_count": 5,
   "metadata": {},
   "outputs": [],
   "source": [
    "def cgne(H, g):\n",
    "    f = np.zeros(3600, dtype=float)\n",
    "    r = g - H@f #linalg.blas.sgemv(-1.0, H, f, beta=1.0, y=g)\n",
    "    p = H.transpose() @ r #linalg.blas.sgemv(1.0, H, r, trans=1)\n",
    "    for i in range(0, 20):\n",
    "        rdot = np.dot(r, r) #linalg.blas.sdot(r, r)\n",
    "        alpha = rdot/np.dot(p, p)#linalg.blas.sdot(p, p)\n",
    "        f = f + alpha*p #linalg.blas.saxpy(p, f, a=alpha)\n",
    "        r = r - alpha*H@p #linalg.blas.sgemv(-alpha, H, p, beta=1.0, y=r)\n",
    "        beta = np.dot(r, r)/rdot #linalg.blas.sdot(r, r)/rdot\n",
    "        p = H.transpose()@r + beta*p #linalg.blas.sgemv(1.0, H, r, beta=beta, y=p, trans=1)\n",
    "    return f"
   ]
  },
  {
   "cell_type": "code",
   "execution_count": 14,
   "metadata": {},
   "outputs": [],
   "source": [
    "img1 = cgne(H, g)"
   ]
  },
  {
   "cell_type": "code",
   "execution_count": 20,
   "metadata": {},
   "outputs": [],
   "source": [
    "img = cgne_blas(H, g)"
   ]
  },
  {
   "cell_type": "code",
   "execution_count": 21,
   "metadata": {},
   "outputs": [],
   "source": [
    "def view(img):\n",
    "    i = img.reshape(60, 60).transpose()\n",
    "    return plt.imshow(i, \"gray\")"
   ]
  },
  {
   "cell_type": "code",
   "execution_count": 22,
   "metadata": {},
   "outputs": [
    {
     "data": {
      "text/plain": [
       "<matplotlib.image.AxesImage at 0x7fa081b1a0a0>"
      ]
     },
     "execution_count": 22,
     "metadata": {},
     "output_type": "execute_result"
    },
    {
     "data": {
      "image/png": "[encoded data removed]",
      "text/plain": [
       "<Figure size 432x288 with 1 Axes>"
      ]
     },
     "metadata": {
      "needs_background": "light"
     },
     "output_type": "display_data"
    }
   ],
   "source": [
    "view(img)"
   ]
  },
  {
   "cell_type": "code",
   "execution_count": 23,
   "metadata": {},
   "outputs": [
    {
     "data": {
      "text/plain": [
       "<matplotlib.image.AxesImage at 0x7fa082afc100>"
      ]
     },
     "execution_count": 23,
     "metadata": {},
     "output_type": "execute_result"
    },
    {
     "data": {
      "image/png": "[encoded data removed]",
      "text/plain": [
       "<Figure size 432x288 with 1 Axes>"
      ]
     },
     "metadata": {
      "needs_background": "light"
     },
     "output_type": "display_data"
    }
   ],
   "source": [
    "view(img1)"
   ]
  },
  {
   "cell_type": "code",
   "execution_count": 24,
   "metadata": {},
   "outputs": [],
   "source": [
    "#np.testing.assert_almost_equal(img, img1, decimal=5)"
   ]
  }
 ],
 "metadata": {
  "interpreter": {
   "hash": "d4d1e4263499bec80672ea0156c357c1ee493ec2b1c70f0acce89fc37c4a6abe"
  },
  "kernelspec": {
   "display_name": "Python 3.9.7 ('base')",
   "language": "python",
   "name": "python3"
  },
  "language_info": {
   "codemirror_mode": {
    "name": "ipython",
    "version": 3
   },
   "file_extension": ".py",
   "mimetype": "text/x-python",
   "name": "python",
   "nbconvert_exporter": "python",
   "pygments_lexer": "ipython3",
   "version": "3.9.7"
  },
  "orig_nbformat": 4
 },
 "nbformat": 4,
 "nbformat_minor": 2
}
