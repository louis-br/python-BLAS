{
 "cells": [
  {
   "cell_type": "code",
   "execution_count": 1,
   "metadata": {},
   "outputs": [],
   "source": [
    "import PIL.Image\n",
    "import numpy as np\n",
    "from scipy import linalg"
   ]
  },
  {
   "cell_type": "code",
   "execution_count": 31,
   "metadata": {},
   "outputs": [],
   "source": [
    "g = np.genfromtxt(\"../data/G-1.csv\", dtype=float, delimiter=\",\")"
   ]
  },
  {
   "cell_type": "code",
   "execution_count": 3,
   "metadata": {},
   "outputs": [],
   "source": [
    "H = np.genfromtxt(\"../data/H-1.csv\", dtype=\"f4\", delimiter=\",\")"
   ]
  },
  {
   "cell_type": "code",
   "execution_count": 39,
   "metadata": {},
   "outputs": [],
   "source": [
    "def cgne(H, g):\n",
    "    f = np.zeros(3600, dtype=float)\n",
    "    r = linalg.blas.sgemv(-1.0, H, f, beta=1.0, y=g)\n",
    "    p = linalg.blas.sgemv(1.0, H, r, trans=1)\n",
    "    for i in range(0, 20):\n",
    "        rdot = linalg.blas.sdot(r, r)\n",
    "        alpha = rdot/linalg.blas.sdot(p, p)\n",
    "        f = linalg.blas.saxpy(p, f, a=alpha)\n",
    "        r = linalg.blas.sgemv(-alpha, H, p, beta=1.0, y=r)\n",
    "        beta = linalg.blas.sdot(r, r)/rdot\n",
    "        p = linalg.blas.sgemv(1.0, H, r, beta=beta, y=p, trans=1)\n",
    "    return f\n",
    "\n"
   ]
  },
  {
   "cell_type": "code",
   "execution_count": 40,
   "metadata": {},
   "outputs": [],
   "source": [
    "img = cgne(H, g)"
   ]
  },
  {
   "cell_type": "code",
   "execution_count": 48,
   "metadata": {},
   "outputs": [
    {
     "data": {
      "image/png": "[encoded data removed]",
      "text/plain": [
       "<PIL.Image.Image image mode=L size=60x60 at 0x7F4E7D6C8B80>"
      ]
     },
     "execution_count": 48,
     "metadata": {},
     "output_type": "execute_result"
    }
   ],
   "source": [
    "img = img.reshape(60, 60)\n",
    "#img = (img - np.min(img))/np.ptp(img)\n",
    "#img = img*255\n",
    "PIL.Image.fromarray(img, mode=\"L\")"
   ]
  }
 ],
 "metadata": {
  "interpreter": {
   "hash": "d4d1e4263499bec80672ea0156c357c1ee493ec2b1c70f0acce89fc37c4a6abe"
  },
  "kernelspec": {
   "display_name": "Python 3.9.7 ('base')",
   "language": "python",
   "name": "python3"
  },
  "language_info": {
   "codemirror_mode": {
    "name": "ipython",
    "version": 3
   },
   "file_extension": ".py",
   "mimetype": "text/x-python",
   "name": "python",
   "nbconvert_exporter": "python",
   "pygments_lexer": "ipython3",
   "version": "3.9.7"
  },
  "orig_nbformat": 4
 },
 "nbformat": 4,
 "nbformat_minor": 2
}
