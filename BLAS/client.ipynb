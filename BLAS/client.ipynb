{
 "cells": [
  {
   "cell_type": "code",
   "execution_count": 553,
   "metadata": {},
   "outputs": [],
   "source": [
    "import socket\n",
    "import struct\n",
    "import time\n",
    "import multiprocessing\n",
    "import matplotlib.pyplot as plt\n",
    "import numpy as np"
   ]
  },
  {
   "cell_type": "code",
   "execution_count": 554,
   "metadata": {},
   "outputs": [],
   "source": [
    "g = np.genfromtxt(\"../data/G-1.csv\", dtype=np.float32, delimiter=\",\")"
   ]
  },
  {
   "cell_type": "code",
   "execution_count": 555,
   "metadata": {},
   "outputs": [
    {
     "name": "stdout",
     "output_type": "stream",
     "text": [
      "-1.742987e-07 3.978862e-07\n"
     ]
    }
   ],
   "source": [
    "print(g[10000], g[10001])"
   ]
  },
  {
   "cell_type": "code",
   "execution_count": 556,
   "metadata": {},
   "outputs": [
    {
     "data": {
      "text/plain": [
       "b'\\x80\\xc6\\x00\\x00'"
      ]
     },
     "execution_count": 556,
     "metadata": {},
     "output_type": "execute_result"
    }
   ],
   "source": [
    "struct.pack(\"i\", g.size)"
   ]
  },
  {
   "cell_type": "code",
   "execution_count": 557,
   "metadata": {},
   "outputs": [],
   "source": [
    "def connect(a):\n",
    "    elapsed = time.perf_counter()\n",
    "    with socket.socket(socket.AF_INET, socket.SOCK_STREAM) as sock:\n",
    "        sock.connect((\"localhost\", 3333))\n",
    "        sock.sendall(g.tobytes())\n",
    "        f = sock.recv(3600*4, socket.MSG_WAITALL)\n",
    "        sock.close()\n",
    "    elapsed = time.perf_counter() - elapsed\n",
    "    print(f\"Completed Execution in {elapsed} seconds\")\n",
    "    return elapsed"
   ]
  },
  {
   "cell_type": "code",
   "execution_count": 558,
   "metadata": {},
   "outputs": [
    {
     "name": "stdout",
     "output_type": "stream",
     "text": [
      "Completed Execution in 12.080699548998382 seconds\n",
      "Completed Execution in 12.206295324009261 seconds\n",
      "Completed Execution in 12.73581872700015 seconds\n",
      "Max: 12.73581872700015 seconds\n"
     ]
    },
    {
     "data": {
      "text/plain": [
       "12.73581872700015"
      ]
     },
     "execution_count": 558,
     "metadata": {},
     "output_type": "execute_result"
    }
   ],
   "source": [
    "def testThreads(num):\n",
    "    threads = []\n",
    "    pool = multiprocessing.Pool()\n",
    "    elapsed = max(pool.map(connect, range(num)))\n",
    "    print(f\"Max: {elapsed} seconds\")\n",
    "    return elapsed\n",
    "    #ps = [];\n",
    "    #for i in range(0, threads):\n",
    "    #    p = Process(target=connect)\n",
    "    #    p.start()\n",
    "    #   ps.append(p)\n",
    "\n",
    "    #for p in ps:\n",
    "    #    p.join()\n",
    "\n",
    "testThreads(3)"
   ]
  },
  {
   "cell_type": "code",
   "execution_count": 559,
   "metadata": {},
   "outputs": [
    {
     "name": "stdout",
     "output_type": "stream",
     "text": [
      "Completed Execution in 6.455599408989656 seconds\n",
      "Max: 6.455599408989656 seconds\n",
      "Completed Execution in 8.422789071992156 seconds\n",
      "Completed Execution in 9.05520266899839 seconds\n",
      "Max: 9.05520266899839 seconds\n",
      "Completed Execution in 10.276563028004603 seconds\n",
      "Completed Execution in 10.310845592000987 seconds\n",
      "Completed Execution in 10.520604932011338 seconds\n",
      "Max: 10.520604932011338 seconds\n",
      "Completed Execution in 15.119910882000113 seconds\n",
      "Completed Execution in 15.125692561006872 seconds\n",
      "Completed Execution in 15.666509847011184 seconds\n",
      "Completed Execution in 15.700303767996957 seconds\n",
      "Max: 15.700303767996957 seconds\n",
      "Completed Execution in 16.946700450003846 seconds\n",
      "Completed Execution in 17.579539415004547 seconds\n",
      "Completed Execution in 18.05132211500313 seconds\n",
      "Completed Execution in 18.40737498398812 seconds\n",
      "Completed Execution in 18.494824909997988 seconds\n",
      "Max: 18.494824909997988 seconds\n",
      "Completed Execution in 18.84034067200264 seconds\n",
      "Completed Execution in 20.03358012800163 seconds\n",
      "Completed Execution in 20.549177341003087 seconds\n",
      "Completed Execution in 21.394314443998155 seconds\n",
      "Completed Execution in 21.51130293100141 seconds\n",
      "Completed Execution in 21.822373022994725 seconds\n",
      "Max: 21.822373022994725 seconds\n",
      "Completed Execution in 26.893855579008232 seconds\n",
      "Completed Execution in 27.078795604989864 seconds\n",
      "Completed Execution in 27.090217675009626 seconds\n",
      "Completed Execution in 27.15093629999319 seconds\n",
      "Completed Execution in 27.20848019501136 seconds\n",
      "Completed Execution in 27.418890375993215 seconds\n",
      "Completed Execution in 27.439681535004638 seconds\n",
      "Max: 27.439681535004638 seconds\n",
      "Completed Execution in 30.310507718997542 seconds\n",
      "Completed Execution in 31.072624246997293 seconds\n",
      "Completed Execution in 32.55053554600454 seconds\n",
      "Completed Execution in 32.67781133399694 seconds\n",
      "Completed Execution in 32.90278432299965 seconds\n",
      "Completed Execution in 32.94481714798894 seconds\n",
      "Completed Execution in 33.16215259699675 seconds\n",
      "Completed Execution in 33.26506650500232 seconds\n",
      "Max: 33.26506650500232 seconds\n",
      "Completed Execution in 31.67949061600666 seconds\n",
      "Completed Execution in 33.56368829999701 seconds\n",
      "Completed Execution in 35.13786172300752 seconds\n",
      "Completed Execution in 35.206520874999114 seconds\n",
      "Completed Execution in 35.65662599299685 seconds\n",
      "Completed Execution in 36.29079310200177 seconds\n",
      "Completed Execution in 36.62137027899735 seconds\n",
      "Completed Execution in 36.86626336799236 seconds\n",
      "Completed Execution in 37.02221816200472 seconds\n",
      "Max: 37.02221816200472 seconds\n",
      "Completed Execution in 36.12183347699465 seconds\n",
      "Completed Execution in 38.75453053199453 seconds\n",
      "Completed Execution in 39.01478911000595 seconds\n",
      "Completed Execution in 39.2679045410041 seconds\n",
      "Completed Execution in 41.96801470599894 seconds\n",
      "Completed Execution in 42.66402173199458 seconds\n",
      "Completed Execution in 42.77327640299336 seconds\n",
      "Completed Execution in 42.919163522004965 seconds\n",
      "Completed Execution in 43.260053692996735 seconds\n",
      "Completed Execution in 43.549650977001875 seconds\n",
      "Max: 43.549650977001875 seconds\n",
      "Completed Execution in 40.77562161399692 seconds\n",
      "Completed Execution in 42.80256969699985 seconds\n",
      "Completed Execution in 43.62659801900736 seconds\n",
      "Completed Execution in 44.7137041889946 seconds\n",
      "Completed Execution in 45.54545219900319 seconds\n",
      "Completed Execution in 45.59087107300002 seconds\n",
      "Completed Execution in 46.85354401200311 seconds\n",
      "Completed Execution in 46.855869616993004 seconds\n",
      "Completed Execution in 46.86677055500331 seconds\n",
      "Completed Execution in 47.44066509199911 seconds\n",
      "Completed Execution in 47.55448142999376 seconds\n",
      "Max: 47.55448142999376 seconds\n",
      "Completed Execution in 45.407050905996584 seconds\n",
      "Completed Execution in 46.09504204300174 seconds\n",
      "Completed Execution in 48.216076858007 seconds\n",
      "Completed Execution in 48.443883719010046 seconds\n",
      "Completed Execution in 48.86997684299422 seconds\n",
      "Completed Execution in 49.93711753100797 seconds\n",
      "Completed Execution in 51.80967051400512 seconds\n",
      "Completed Execution in 52.18277813799796 seconds\n",
      "Completed Execution in 52.93972358100291 seconds\n",
      "Completed Execution in 52.96720646700123 seconds\n",
      "Completed Execution in 53.23653233899677 seconds\n",
      "Completed Execution in 53.34778270398965 seconds\n",
      "Max: 53.34778270398965 seconds\n"
     ]
    }
   ],
   "source": [
    "r = []\n",
    "\n",
    "for i in range(12):\n",
    "    r.append(testThreads(i+1))"
   ]
  },
  {
   "cell_type": "code",
   "execution_count": 560,
   "metadata": {},
   "outputs": [
    {
     "data": {
      "text/plain": [
       "[<matplotlib.lines.Line2D at 0x7f1879a35790>]"
      ]
     },
     "execution_count": 560,
     "metadata": {},
     "output_type": "execute_result"
    },
    {
     "data": {
      "image/png": "[encoded data removed]",
      "text/plain": [
       "<Figure size 432x288 with 1 Axes>"
      ]
     },
     "metadata": {
      "needs_background": "light"
     },
     "output_type": "display_data"
    }
   ],
   "source": [
    "plt.plot(range(12), r)"
   ]
  },
  {
   "cell_type": "code",
   "execution_count": 561,
   "metadata": {},
   "outputs": [
    {
     "data": {
      "text/plain": [
       "14400"
      ]
     },
     "execution_count": 561,
     "metadata": {},
     "output_type": "execute_result"
    }
   ],
   "source": [
    "len(f)"
   ]
  },
  {
   "cell_type": "code",
   "execution_count": 562,
   "metadata": {},
   "outputs": [],
   "source": [
    "img = np.frombuffer(f, dtype=np.float32)"
   ]
  },
  {
   "cell_type": "code",
   "execution_count": 563,
   "metadata": {},
   "outputs": [],
   "source": [
    "def view(img):\n",
    "    i = img.reshape(60, 60).transpose()\n",
    "    return plt.imshow(i, \"gray\")"
   ]
  },
  {
   "cell_type": "code",
   "execution_count": 564,
   "metadata": {},
   "outputs": [
    {
     "data": {
      "text/plain": [
       "<matplotlib.image.AxesImage at 0x7f187bb02490>"
      ]
     },
     "execution_count": 564,
     "metadata": {},
     "output_type": "execute_result"
    },
    {
     "data": {
      "image/png": "[encoded data removed]",
      "text/plain": [
       "<Figure size 432x288 with 1 Axes>"
      ]
     },
     "metadata": {
      "needs_background": "light"
     },
     "output_type": "display_data"
    }
   ],
   "source": [
    "view(img)"
   ]
  }
 ],
 "metadata": {
  "interpreter": {
   "hash": "d4d1e4263499bec80672ea0156c357c1ee493ec2b1c70f0acce89fc37c4a6abe"
  },
  "kernelspec": {
   "display_name": "Python 3.9.7 ('base')",
   "language": "python",
   "name": "python3"
  },
  "language_info": {
   "codemirror_mode": {
    "name": "ipython",
    "version": 3
   },
   "file_extension": ".py",
   "mimetype": "text/x-python",
   "name": "python",
   "nbconvert_exporter": "python",
   "pygments_lexer": "ipython3",
   "version": "3.9.7"
  },
  "orig_nbformat": 4
 },
 "nbformat": 4,
 "nbformat_minor": 2
}
