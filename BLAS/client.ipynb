{
 "cells": [
  {
   "cell_type": "code",
   "execution_count": 506,
   "metadata": {},
   "outputs": [],
   "source": [
    "import socket\n",
    "import struct\n",
    "import time\n",
    "import multiprocessing\n",
    "import matplotlib.pyplot as plt\n",
    "import numpy as np"
   ]
  },
  {
   "cell_type": "code",
   "execution_count": 507,
   "metadata": {},
   "outputs": [],
   "source": [
    "g = np.genfromtxt(\"../data/G-1.csv\", dtype=np.float32, delimiter=\",\")"
   ]
  },
  {
   "cell_type": "code",
   "execution_count": 508,
   "metadata": {},
   "outputs": [
    {
     "name": "stdout",
     "output_type": "stream",
     "text": [
      "-1.742987e-07 3.978862e-07\n"
     ]
    }
   ],
   "source": [
    "print(g[10000], g[10001])"
   ]
  },
  {
   "cell_type": "code",
   "execution_count": 509,
   "metadata": {},
   "outputs": [
    {
     "data": {
      "text/plain": [
       "b'\\x80\\xc6\\x00\\x00'"
      ]
     },
     "execution_count": 509,
     "metadata": {},
     "output_type": "execute_result"
    }
   ],
   "source": [
    "struct.pack(\"i\", g.size)"
   ]
  },
  {
   "cell_type": "code",
   "execution_count": 510,
   "metadata": {},
   "outputs": [],
   "source": [
    "def connect(a):\n",
    "    elapsed = time.perf_counter()\n",
    "    with socket.socket(socket.AF_INET, socket.SOCK_STREAM) as sock:\n",
    "        sock.connect((\"localhost\", 3333))\n",
    "        sock.sendall(g.tobytes())\n",
    "        f = sock.recv(3600*4, socket.MSG_WAITALL)\n",
    "        sock.close()\n",
    "    elapsed = time.perf_counter() - elapsed\n",
    "    print(f\"Completed Execution in {elapsed} seconds\")\n",
    "    return elapsed"
   ]
  },
  {
   "cell_type": "code",
   "execution_count": 511,
   "metadata": {},
   "outputs": [
    {
     "name": "stdout",
     "output_type": "stream",
     "text": [
      "Completed Execution in 8.499822017998667 seconds\n",
      "Completed Execution in 8.776556676995824 seconds\n",
      "Completed Execution in 8.943309280992253 seconds\n",
      "Max: 8.943309280992253 seconds\n"
     ]
    },
    {
     "data": {
      "text/plain": [
       "8.943309280992253"
      ]
     },
     "execution_count": 511,
     "metadata": {},
     "output_type": "execute_result"
    }
   ],
   "source": [
    "\n",
    "def testThreads(num):\n",
    "    threads = []\n",
    "    pool = multiprocessing.Pool()\n",
    "    elapsed = max(pool.map(connect, range(num)))\n",
    "    print(f\"Max: {elapsed} seconds\")\n",
    "    return elapsed\n",
    "    #ps = [];\n",
    "    #for i in range(0, threads):\n",
    "    #    p = Process(target=connect)\n",
    "    #    p.start()\n",
    "    #   ps.append(p)\n",
    "\n",
    "    #for p in ps:\n",
    "    #    p.join()\n",
    "\n",
    "testThreads(3)"
   ]
  },
  {
   "cell_type": "code",
   "execution_count": 544,
   "metadata": {},
   "outputs": [
    {
     "name": "stdout",
     "output_type": "stream",
     "text": [
      "Completed Execution in 5.623403890000191 seconds\n",
      "Max: 5.623403890000191 seconds\n",
      "Completed Execution in 6.445048232009867 seconds\n",
      "Completed Execution in 6.652100386010716 seconds\n",
      "Max: 6.652100386010716 seconds\n",
      "Completed Execution in 8.627833560996805 seconds\n",
      "Completed Execution in 9.442130354000255 seconds\n",
      "Completed Execution in 9.519236345993704 seconds\n",
      "Max: 9.519236345993704 seconds\n",
      "Completed Execution in 13.406780664008693 seconds\n",
      "Completed Execution in 14.3129775050038 seconds\n",
      "Completed Execution in 14.32937043000129 seconds\n",
      "Completed Execution in 14.39130374600063 seconds\n",
      "Max: 14.39130374600063 seconds\n",
      "Completed Execution in 17.984303969991743 seconds\n",
      "Completed Execution in 18.938955652993172 seconds\n",
      "Completed Execution in 19.17300598300062 seconds\n",
      "Completed Execution in 19.517478060006397 seconds\n",
      "Completed Execution in 19.664799657010008 seconds\n",
      "Max: 19.664799657010008 seconds\n"
     ]
    }
   ],
   "source": [
    "r = []\n",
    "\n",
    "for i in range(5):\n",
    "    r.append(testThreads(i+1))"
   ]
  },
  {
   "cell_type": "code",
   "execution_count": 546,
   "metadata": {},
   "outputs": [
    {
     "data": {
      "text/plain": [
       "[<matplotlib.lines.Line2D at 0x7f187bf047f0>]"
      ]
     },
     "execution_count": 546,
     "metadata": {},
     "output_type": "execute_result"
    },
    {
     "data": {
      "image/png": "[encoded data removed]",
      "text/plain": [
       "<Figure size 432x288 with 1 Axes>"
      ]
     },
     "metadata": {
      "needs_background": "light"
     },
     "output_type": "display_data"
    }
   ],
   "source": [
    "plt.plot(range(5), r)"
   ]
  },
  {
   "cell_type": "code",
   "execution_count": null,
   "metadata": {},
   "outputs": [
    {
     "data": {
      "text/plain": [
       "14400"
      ]
     },
     "execution_count": 535,
     "metadata": {},
     "output_type": "execute_result"
    }
   ],
   "source": [
    "len(f)"
   ]
  },
  {
   "cell_type": "code",
   "execution_count": null,
   "metadata": {},
   "outputs": [],
   "source": [
    "img = np.frombuffer(f, dtype=np.float32)"
   ]
  },
  {
   "cell_type": "code",
   "execution_count": null,
   "metadata": {},
   "outputs": [],
   "source": [
    "def view(img):\n",
    "    i = img.reshape(60, 60).transpose()\n",
    "    return plt.imshow(i, \"gray\")"
   ]
  },
  {
   "cell_type": "code",
   "execution_count": null,
   "metadata": {},
   "outputs": [
    {
     "data": {
      "text/plain": [
       "<matplotlib.image.AxesImage at 0x7f187bfbe580>"
      ]
     },
     "execution_count": 538,
     "metadata": {},
     "output_type": "execute_result"
    },
    {
     "data": {
      "image/png": "[encoded data removed]",
      "text/plain": [
       "<Figure size 432x288 with 1 Axes>"
      ]
     },
     "metadata": {
      "needs_background": "light"
     },
     "output_type": "display_data"
    }
   ],
   "source": [
    "view(img)"
   ]
  }
 ],
 "metadata": {
  "interpreter": {
   "hash": "d4d1e4263499bec80672ea0156c357c1ee493ec2b1c70f0acce89fc37c4a6abe"
  },
  "kernelspec": {
   "display_name": "Python 3.9.7 ('base')",
   "language": "python",
   "name": "python3"
  },
  "language_info": {
   "codemirror_mode": {
    "name": "ipython",
    "version": 3
   },
   "file_extension": ".py",
   "mimetype": "text/x-python",
   "name": "python",
   "nbconvert_exporter": "python",
   "pygments_lexer": "ipython3",
   "version": "3.9.7"
  },
  "orig_nbformat": 4
 },
 "nbformat": 4,
 "nbformat_minor": 2
}
